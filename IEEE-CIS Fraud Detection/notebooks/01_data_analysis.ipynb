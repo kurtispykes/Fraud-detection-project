{
 "cells": [
  {
   "attachments": {
    "b2175722-7219-461a-8aae-c8438078ffd0.png": {
     "image/png": "[encoded data removed]"
    },
    "f5ef40e1-6a92-40f0-988e-93bfcfbb7ef9.png": {
     "image/png": "[encoded data removed]"
    }
   },
   "cell_type": "markdown",
   "id": "ad2e68c4-e8d0-4bdd-bc9b-4a11bdf78590",
   "metadata": {},
   "source": [
    "# IEEE-CIS Fraud Detection \n",
    "## Can You Detect Frauduelent Transactions \n",
    "![image.png](attachment:f5ef40e1-6a92-40f0-988e-93bfcfbb7ef9.png)![image.png](attachment:b2175722-7219-461a-8aae-c8438078ffd0.png)\n",
    "\n",
    "Imagine standing at the check-out counter at the grocery store with a long line behind you and the cashier not-so-quietly announces that your card has been declined. In this moment, you probably aren’t thinking about the data science that determined your fate.\n",
    "\n",
    "Embarrassed, and certain you have the funds to cover everything needed for an epic nacho party for 50 of your closest friends, you try your card again. Same result. As you step aside and allow the cashier to tend to the next customer, you receive a text message from your bank. “Press 1 if you really tried to spend $500 on cheddar cheese.”\n",
    "\n",
    "While perhaps cumbersome (and often embarrassing) in the moment, this fraud prevention system is actually saving consumers millions of dollars per year. Researchers from the IEEE Computational Intelligence Society (IEEE-CIS) want to improve this figure, while also improving the customer experience. With higher accuracy fraud detection, you can get on with your chips without the hassle.\n",
    "\n",
    "====================================================================================\n",
    "\n",
    "**Disclaimer:** *The following notebooks are used for analysis purposes.*\n",
    "\n",
    "We will use the IEEE-Fraud Detection dataset available on [kaggle.com](https://www.kaggle.com/c/ieee-fraud-detection/data). See below for more details.\n",
    "\n",
    "====================================================================================\n",
    "\n",
    "**What is the objective of the machine learning model?**\n",
    "\n",
    "We aim find a model that has a good measure of seperability. We will evaluate the model perfromance with the: \n",
    "- [ROC-AUC](https://towardsdatascience.com/comprehension-of-the-auc-roc-curve-e876191280f9)\n",
    "\n",
    "\n",
    "**Disclaimer:** *The structure used in this notebook was taken from the Deployment of Machine Learning Models course on Udemy*"
   ]
  },
  {
   "cell_type": "code",
   "execution_count": 70,
   "id": "eba329c4-b99c-4862-8740-8e7eaa627c88",
   "metadata": {},
   "outputs": [],
   "source": [
    "# to handle datasets\n",
    "import numpy as np\n",
    "import pandas as pd\n",
    "\n",
    "# for plotting\n",
    "import matplotlib.pyplot as plt\n",
    "import seaborn as sns"
   ]
  },
  {
   "cell_type": "code",
   "execution_count": 71,
   "id": "c8dd7151-e32c-49e3-9983-8cadbe864b2c",
   "metadata": {},
   "outputs": [
    {
     "name": "stdout",
     "output_type": "stream",
     "text": [
      "train transaction: (590540, 394)\n",
      "train identity: (144233, 41)\n"
     ]
    }
   ],
   "source": [
    "# load data\n",
    "train_transaction = pd.read_csv(\"../data/train_transaction.csv\")\n",
    "train_identity = pd.read_csv(\"../data/train_identity.csv\")\n",
    "\n",
    "# number of rows and columns in the datasets\n",
    "print(f\"train transaction: {train_transaction.shape}\\n\\\n",
    "train identity: {train_identity.shape}\")"
   ]
  },
  {
   "cell_type": "markdown",
   "id": "acba5f81-aac7-4589-ba69-6d7c1ef8ae4d",
   "metadata": {},
   "source": [
    "The train transaction dataset contains 590540 rows, that is the number of customers, and 394 columns, i.e., features. On the other hand, The train identity dataset contains 144233 rows, and 41 columns. \n",
    "\n",
    "Altogether, there are 433 predictive features and 1 is the target variable: isFraud"
   ]
  },
  {
   "cell_type": "code",
   "execution_count": 72,
   "id": "bf51182b-7bae-41ee-9a8f-bfab78462159",
   "metadata": {},
   "outputs": [
    {
     "data": {
      "text/html": [
       "<div>\n",
       "<style scoped>\n",
       "    .dataframe tbody tr th:only-of-type {\n",
       "        vertical-align: middle;\n",
       "    }\n",
       "\n",
       "    .dataframe tbody tr th {\n",
       "        vertical-align: top;\n",
       "    }\n",
       "\n",
       "    .dataframe thead th {\n",
       "        text-align: right;\n",
       "    }\n",
       "</style>\n",
       "<table border=\"1\" class=\"dataframe\">\n",
       "  <thead>\n",
       "    <tr style=\"text-align: right;\">\n",
       "      <th></th>\n",
       "      <th>TransactionID</th>\n",
       "      <th>isFraud</th>\n",
       "      <th>TransactionDT</th>\n",
       "      <th>TransactionAmt</th>\n",
       "      <th>ProductCD</th>\n",
       "      <th>card1</th>\n",
       "      <th>card2</th>\n",
       "      <th>card3</th>\n",
       "      <th>card4</th>\n",
       "      <th>card5</th>\n",
       "      <th>...</th>\n",
       "      <th>V330</th>\n",
       "      <th>V331</th>\n",
       "      <th>V332</th>\n",
       "      <th>V333</th>\n",
       "      <th>V334</th>\n",
       "      <th>V335</th>\n",
       "      <th>V336</th>\n",
       "      <th>V337</th>\n",
       "      <th>V338</th>\n",
       "      <th>V339</th>\n",
       "    </tr>\n",
       "  </thead>\n",
       "  <tbody>\n",
       "    <tr>\n",
       "      <th>0</th>\n",
       "      <td>2987000</td>\n",
       "      <td>0</td>\n",
       "      <td>86400</td>\n",
       "      <td>68.5</td>\n",
       "      <td>W</td>\n",
       "      <td>13926</td>\n",
       "      <td>NaN</td>\n",
       "      <td>150.0</td>\n",
       "      <td>discover</td>\n",
       "      <td>142.0</td>\n",
       "      <td>...</td>\n",
       "      <td>NaN</td>\n",
       "      <td>NaN</td>\n",
       "      <td>NaN</td>\n",
       "      <td>NaN</td>\n",
       "      <td>NaN</td>\n",
       "      <td>NaN</td>\n",
       "      <td>NaN</td>\n",
       "      <td>NaN</td>\n",
       "      <td>NaN</td>\n",
       "      <td>NaN</td>\n",
       "    </tr>\n",
       "    <tr>\n",
       "      <th>1</th>\n",
       "      <td>2987001</td>\n",
       "      <td>0</td>\n",
       "      <td>86401</td>\n",
       "      <td>29.0</td>\n",
       "      <td>W</td>\n",
       "      <td>2755</td>\n",
       "      <td>404.0</td>\n",
       "      <td>150.0</td>\n",
       "      <td>mastercard</td>\n",
       "      <td>102.0</td>\n",
       "      <td>...</td>\n",
       "      <td>NaN</td>\n",
       "      <td>NaN</td>\n",
       "      <td>NaN</td>\n",
       "      <td>NaN</td>\n",
       "      <td>NaN</td>\n",
       "      <td>NaN</td>\n",
       "      <td>NaN</td>\n",
       "      <td>NaN</td>\n",
       "      <td>NaN</td>\n",
       "      <td>NaN</td>\n",
       "    </tr>\n",
       "    <tr>\n",
       "      <th>2</th>\n",
       "      <td>2987002</td>\n",
       "      <td>0</td>\n",
       "      <td>86469</td>\n",
       "      <td>59.0</td>\n",
       "      <td>W</td>\n",
       "      <td>4663</td>\n",
       "      <td>490.0</td>\n",
       "      <td>150.0</td>\n",
       "      <td>visa</td>\n",
       "      <td>166.0</td>\n",
       "      <td>...</td>\n",
       "      <td>NaN</td>\n",
       "      <td>NaN</td>\n",
       "      <td>NaN</td>\n",
       "      <td>NaN</td>\n",
       "      <td>NaN</td>\n",
       "      <td>NaN</td>\n",
       "      <td>NaN</td>\n",
       "      <td>NaN</td>\n",
       "      <td>NaN</td>\n",
       "      <td>NaN</td>\n",
       "    </tr>\n",
       "    <tr>\n",
       "      <th>3</th>\n",
       "      <td>2987003</td>\n",
       "      <td>0</td>\n",
       "      <td>86499</td>\n",
       "      <td>50.0</td>\n",
       "      <td>W</td>\n",
       "      <td>18132</td>\n",
       "      <td>567.0</td>\n",
       "      <td>150.0</td>\n",
       "      <td>mastercard</td>\n",
       "      <td>117.0</td>\n",
       "      <td>...</td>\n",
       "      <td>NaN</td>\n",
       "      <td>NaN</td>\n",
       "      <td>NaN</td>\n",
       "      <td>NaN</td>\n",
       "      <td>NaN</td>\n",
       "      <td>NaN</td>\n",
       "      <td>NaN</td>\n",
       "      <td>NaN</td>\n",
       "      <td>NaN</td>\n",
       "      <td>NaN</td>\n",
       "    </tr>\n",
       "    <tr>\n",
       "      <th>4</th>\n",
       "      <td>2987004</td>\n",
       "      <td>0</td>\n",
       "      <td>86506</td>\n",
       "      <td>50.0</td>\n",
       "      <td>H</td>\n",
       "      <td>4497</td>\n",
       "      <td>514.0</td>\n",
       "      <td>150.0</td>\n",
       "      <td>mastercard</td>\n",
       "      <td>102.0</td>\n",
       "      <td>...</td>\n",
       "      <td>0.0</td>\n",
       "      <td>0.0</td>\n",
       "      <td>0.0</td>\n",
       "      <td>0.0</td>\n",
       "      <td>0.0</td>\n",
       "      <td>0.0</td>\n",
       "      <td>0.0</td>\n",
       "      <td>0.0</td>\n",
       "      <td>0.0</td>\n",
       "      <td>0.0</td>\n",
       "    </tr>\n",
       "  </tbody>\n",
       "</table>\n",
       "<p>5 rows × 394 columns</p>\n",
       "</div>"
      ],
      "text/plain": [
       "   TransactionID  isFraud  TransactionDT  TransactionAmt ProductCD  card1  \\\n",
       "0        2987000        0          86400            68.5         W  13926   \n",
       "1        2987001        0          86401            29.0         W   2755   \n",
       "2        2987002        0          86469            59.0         W   4663   \n",
       "3        2987003        0          86499            50.0         W  18132   \n",
       "4        2987004        0          86506            50.0         H   4497   \n",
       "\n",
       "   card2  card3       card4  card5  ... V330  V331  V332  V333  V334 V335  \\\n",
       "0    NaN  150.0    discover  142.0  ...  NaN   NaN   NaN   NaN   NaN  NaN   \n",
       "1  404.0  150.0  mastercard  102.0  ...  NaN   NaN   NaN   NaN   NaN  NaN   \n",
       "2  490.0  150.0        visa  166.0  ...  NaN   NaN   NaN   NaN   NaN  NaN   \n",
       "3  567.0  150.0  mastercard  117.0  ...  NaN   NaN   NaN   NaN   NaN  NaN   \n",
       "4  514.0  150.0  mastercard  102.0  ...  0.0   0.0   0.0   0.0   0.0  0.0   \n",
       "\n",
       "  V336  V337  V338  V339  \n",
       "0  NaN   NaN   NaN   NaN  \n",
       "1  NaN   NaN   NaN   NaN  \n",
       "2  NaN   NaN   NaN   NaN  \n",
       "3  NaN   NaN   NaN   NaN  \n",
       "4  0.0   0.0   0.0   0.0  \n",
       "\n",
       "[5 rows x 394 columns]"
      ]
     },
     "execution_count": 72,
     "metadata": {},
     "output_type": "execute_result"
    }
   ],
   "source": [
    "# preview transaction dataset\n",
    "train_transaction.head()"
   ]
  },
  {
   "cell_type": "code",
   "execution_count": 73,
   "id": "8426c8b8-9b8a-454b-be2d-7ad7800f6a5b",
   "metadata": {},
   "outputs": [
    {
     "data": {
      "text/html": [
       "<div>\n",
       "<style scoped>\n",
       "    .dataframe tbody tr th:only-of-type {\n",
       "        vertical-align: middle;\n",
       "    }\n",
       "\n",
       "    .dataframe tbody tr th {\n",
       "        vertical-align: top;\n",
       "    }\n",
       "\n",
       "    .dataframe thead th {\n",
       "        text-align: right;\n",
       "    }\n",
       "</style>\n",
       "<table border=\"1\" class=\"dataframe\">\n",
       "  <thead>\n",
       "    <tr style=\"text-align: right;\">\n",
       "      <th></th>\n",
       "      <th>TransactionID</th>\n",
       "      <th>id_01</th>\n",
       "      <th>id_02</th>\n",
       "      <th>id_03</th>\n",
       "      <th>id_04</th>\n",
       "      <th>id_05</th>\n",
       "      <th>id_06</th>\n",
       "      <th>id_07</th>\n",
       "      <th>id_08</th>\n",
       "      <th>id_09</th>\n",
       "      <th>...</th>\n",
       "      <th>id_31</th>\n",
       "      <th>id_32</th>\n",
       "      <th>id_33</th>\n",
       "      <th>id_34</th>\n",
       "      <th>id_35</th>\n",
       "      <th>id_36</th>\n",
       "      <th>id_37</th>\n",
       "      <th>id_38</th>\n",
       "      <th>DeviceType</th>\n",
       "      <th>DeviceInfo</th>\n",
       "    </tr>\n",
       "  </thead>\n",
       "  <tbody>\n",
       "    <tr>\n",
       "      <th>0</th>\n",
       "      <td>2987004</td>\n",
       "      <td>0.0</td>\n",
       "      <td>70787.0</td>\n",
       "      <td>NaN</td>\n",
       "      <td>NaN</td>\n",
       "      <td>NaN</td>\n",
       "      <td>NaN</td>\n",
       "      <td>NaN</td>\n",
       "      <td>NaN</td>\n",
       "      <td>NaN</td>\n",
       "      <td>...</td>\n",
       "      <td>samsung browser 6.2</td>\n",
       "      <td>32.0</td>\n",
       "      <td>2220x1080</td>\n",
       "      <td>match_status:2</td>\n",
       "      <td>T</td>\n",
       "      <td>F</td>\n",
       "      <td>T</td>\n",
       "      <td>T</td>\n",
       "      <td>mobile</td>\n",
       "      <td>SAMSUNG SM-G892A Build/NRD90M</td>\n",
       "    </tr>\n",
       "    <tr>\n",
       "      <th>1</th>\n",
       "      <td>2987008</td>\n",
       "      <td>-5.0</td>\n",
       "      <td>98945.0</td>\n",
       "      <td>NaN</td>\n",
       "      <td>NaN</td>\n",
       "      <td>0.0</td>\n",
       "      <td>-5.0</td>\n",
       "      <td>NaN</td>\n",
       "      <td>NaN</td>\n",
       "      <td>NaN</td>\n",
       "      <td>...</td>\n",
       "      <td>mobile safari 11.0</td>\n",
       "      <td>32.0</td>\n",
       "      <td>1334x750</td>\n",
       "      <td>match_status:1</td>\n",
       "      <td>T</td>\n",
       "      <td>F</td>\n",
       "      <td>F</td>\n",
       "      <td>T</td>\n",
       "      <td>mobile</td>\n",
       "      <td>iOS Device</td>\n",
       "    </tr>\n",
       "    <tr>\n",
       "      <th>2</th>\n",
       "      <td>2987010</td>\n",
       "      <td>-5.0</td>\n",
       "      <td>191631.0</td>\n",
       "      <td>0.0</td>\n",
       "      <td>0.0</td>\n",
       "      <td>0.0</td>\n",
       "      <td>0.0</td>\n",
       "      <td>NaN</td>\n",
       "      <td>NaN</td>\n",
       "      <td>0.0</td>\n",
       "      <td>...</td>\n",
       "      <td>chrome 62.0</td>\n",
       "      <td>NaN</td>\n",
       "      <td>NaN</td>\n",
       "      <td>NaN</td>\n",
       "      <td>F</td>\n",
       "      <td>F</td>\n",
       "      <td>T</td>\n",
       "      <td>T</td>\n",
       "      <td>desktop</td>\n",
       "      <td>Windows</td>\n",
       "    </tr>\n",
       "    <tr>\n",
       "      <th>3</th>\n",
       "      <td>2987011</td>\n",
       "      <td>-5.0</td>\n",
       "      <td>221832.0</td>\n",
       "      <td>NaN</td>\n",
       "      <td>NaN</td>\n",
       "      <td>0.0</td>\n",
       "      <td>-6.0</td>\n",
       "      <td>NaN</td>\n",
       "      <td>NaN</td>\n",
       "      <td>NaN</td>\n",
       "      <td>...</td>\n",
       "      <td>chrome 62.0</td>\n",
       "      <td>NaN</td>\n",
       "      <td>NaN</td>\n",
       "      <td>NaN</td>\n",
       "      <td>F</td>\n",
       "      <td>F</td>\n",
       "      <td>T</td>\n",
       "      <td>T</td>\n",
       "      <td>desktop</td>\n",
       "      <td>NaN</td>\n",
       "    </tr>\n",
       "    <tr>\n",
       "      <th>4</th>\n",
       "      <td>2987016</td>\n",
       "      <td>0.0</td>\n",
       "      <td>7460.0</td>\n",
       "      <td>0.0</td>\n",
       "      <td>0.0</td>\n",
       "      <td>1.0</td>\n",
       "      <td>0.0</td>\n",
       "      <td>NaN</td>\n",
       "      <td>NaN</td>\n",
       "      <td>0.0</td>\n",
       "      <td>...</td>\n",
       "      <td>chrome 62.0</td>\n",
       "      <td>24.0</td>\n",
       "      <td>1280x800</td>\n",
       "      <td>match_status:2</td>\n",
       "      <td>T</td>\n",
       "      <td>F</td>\n",
       "      <td>T</td>\n",
       "      <td>T</td>\n",
       "      <td>desktop</td>\n",
       "      <td>MacOS</td>\n",
       "    </tr>\n",
       "  </tbody>\n",
       "</table>\n",
       "<p>5 rows × 41 columns</p>\n",
       "</div>"
      ],
      "text/plain": [
       "   TransactionID  id_01     id_02  id_03  id_04  id_05  id_06  id_07  id_08  \\\n",
       "0        2987004    0.0   70787.0    NaN    NaN    NaN    NaN    NaN    NaN   \n",
       "1        2987008   -5.0   98945.0    NaN    NaN    0.0   -5.0    NaN    NaN   \n",
       "2        2987010   -5.0  191631.0    0.0    0.0    0.0    0.0    NaN    NaN   \n",
       "3        2987011   -5.0  221832.0    NaN    NaN    0.0   -6.0    NaN    NaN   \n",
       "4        2987016    0.0    7460.0    0.0    0.0    1.0    0.0    NaN    NaN   \n",
       "\n",
       "   id_09  ...                id_31  id_32      id_33           id_34  id_35  \\\n",
       "0    NaN  ...  samsung browser 6.2   32.0  2220x1080  match_status:2      T   \n",
       "1    NaN  ...   mobile safari 11.0   32.0   1334x750  match_status:1      T   \n",
       "2    0.0  ...          chrome 62.0    NaN        NaN             NaN      F   \n",
       "3    NaN  ...          chrome 62.0    NaN        NaN             NaN      F   \n",
       "4    0.0  ...          chrome 62.0   24.0   1280x800  match_status:2      T   \n",
       "\n",
       "  id_36 id_37  id_38  DeviceType                     DeviceInfo  \n",
       "0     F     T      T      mobile  SAMSUNG SM-G892A Build/NRD90M  \n",
       "1     F     F      T      mobile                     iOS Device  \n",
       "2     F     T      T     desktop                        Windows  \n",
       "3     F     T      T     desktop                            NaN  \n",
       "4     F     T      T     desktop                          MacOS  \n",
       "\n",
       "[5 rows x 41 columns]"
      ]
     },
     "execution_count": 73,
     "metadata": {},
     "output_type": "execute_result"
    }
   ],
   "source": [
    "# preview identity dataset\n",
    "train_identity.head() "
   ]
  },
  {
   "cell_type": "code",
   "execution_count": 74,
   "id": "197fda28-36dd-4bc7-b372-312e8d1f2190",
   "metadata": {},
   "outputs": [
    {
     "name": "stdout",
     "output_type": "stream",
     "text": [
      "merged dataset rows and cols: (590540, 434)\n"
     ]
    }
   ],
   "source": [
    "# combine the datasets, which are joined by TransactionID.\n",
    "# Not all transactions have corresponding identity information.\n",
    "dataset = pd.merge(\n",
    "    train_transaction,\n",
    "    train_identity,\n",
    "    how=\"left\", \n",
    "    on=\"TransactionID\"\n",
    ")\n",
    "\n",
    "# check merged correctly\n",
    "print(f\"merged dataset rows and cols: {dataset.shape}\")"
   ]
  },
  {
   "cell_type": "markdown",
   "id": "3096191b-da40-4e83-872e-926a5178c72d",
   "metadata": {},
   "source": [
    "## Analysis\n",
    "**We will analyse the following:**\n",
    "1. The target feature\n",
    "2. Feature types (categorical and numerical)\n",
    "3. Missing data\n",
    "    - Numerical variables\n",
    "    - Categorical variables"
   ]
  },
  {
   "cell_type": "markdown",
   "id": "39892964-129b-4b22-a756-4e015a640282",
   "metadata": {},
   "source": [
    "### 1. The target feature"
   ]
  },
  {
   "cell_type": "code",
   "execution_count": 75,
   "id": "766687ed-45a3-4b03-93d3-2a6c0e095c49",
   "metadata": {},
   "outputs": [
    {
     "data": {
      "image/png": "[encoded data removed]",
      "text/plain": [
       "<Figure size 432x288 with 1 Axes>"
      ]
     },
     "metadata": {
      "needs_background": "light"
     },
     "output_type": "display_data"
    }
   ],
   "source": [
    "# bar chart to evaluate target distribution\n",
    "x = [\"Not Fraud\", \"Fraud\"]\n",
    "height = list(dataset[\"isFraud\"].value_counts())\n",
    "\n",
    "plt.bar(\n",
    "    x= x,\n",
    "    height= dataset[\"isFraud\"].value_counts()\n",
    ")\n",
    "\n",
    "plt.title(\"Number of Fraudlent Transactions\")\n",
    "plt.xlabel(\"Class\")\n",
    "plt.ylabel(\"Number of transactions\") \n",
    "plt.show()"
   ]
  },
  {
   "cell_type": "markdown",
   "id": "7d531eb6-e0a2-4132-92ae-5f574fbf00f2",
   "metadata": {},
   "source": [
    "We can see that the target label is discrete, and there is a severe imbalance of the classes. We could potentially apply some sampling techniques to balance the classes - see [Oversampling and Undersampling](https://towardsdatascience.com/oversampling-and-undersampling-5e2bbaf56dcf).\n",
    "\n",
    "For now, I'm going to leave it as it is. "
   ]
  },
  {
   "cell_type": "markdown",
   "id": "811b1775-8b6b-4419-baed-d15d249d8350",
   "metadata": {},
   "source": [
    "### 2. Feature Types (Categorical and Numerical)\n",
    "The documentation tells us the following: \n",
    "\n",
    "1. Categorical Features - Transaction\n",
    "    - `ProductCD`\n",
    "    - `card1 - card6`\n",
    "    - `addr1, addr2`\n",
    "    - `P_emaildomain`\n",
    "    - `R_emaildomain`\n",
    "    - `M1 - M9`\n",
    "2. Categorical Features - Identity\n",
    "    - `DeviceType`\n",
    "    - `DeviceInfo`\n",
    "    - `id_12 - id_38`\n",
    "\n",
    "We are first going to confirm that the actual data aligns with what the documentation states. "
   ]
  },
  {
   "cell_type": "code",
   "execution_count": 76,
   "id": "8f20931f-67dc-4d6d-9b60-ce8f047970fe",
   "metadata": {},
   "outputs": [
    {
     "name": "stdout",
     "output_type": "stream",
     "text": [
      "length: 31\n",
      "\n",
      "columns:\n",
      "['ProductCD', 'card4', 'card6', 'P_emaildomain', 'R_emaildomain', 'M1', 'M2', 'M3', 'M4', 'M5', 'M6', 'M7', 'M8', 'M9', 'id_12', 'id_15', 'id_16', 'id_23', 'id_27', 'id_28', 'id_29', 'id_30', 'id_31', 'id_33', 'id_34', 'id_35', 'id_36', 'id_37', 'id_38', 'DeviceType', 'DeviceInfo']\n"
     ]
    }
   ],
   "source": [
    "# identifying the categorical features by \n",
    "# capturing those of type *object*\n",
    "cat_cols = list(dataset.select_dtypes(include=['object']).columns)\n",
    "print(f\"length: {len(cat_cols)}\\n\\n\\\n",
    "columns:\\n{cat_cols}\")"
   ]
  },
  {
   "cell_type": "markdown",
   "id": "e971e2b1-a1cc-4a3f-b9e2-9e036ba8ca65",
   "metadata": {},
   "source": [
    "The object list does not include the following features:\n",
    "`card1`, `card2`, `card3`, `card5`, `addr1`, `addr2`, `id_13`, `id_14`, `id_17`, `id_18`, `id_19`, `id_20`, `id_21`, `id_22`, `id_24`, `id_25`, `id_26`, `id_32`.\n",
    "\n",
    "This means that these features must be of some other type, even though they are regarded as categorical features. Let's check what type they are of..."
   ]
  },
  {
   "cell_type": "code",
   "execution_count": 77,
   "id": "0a2a8b35-2b8b-40ce-934b-75b37c2c1569",
   "metadata": {},
   "outputs": [
    {
     "name": "stdout",
     "output_type": "stream",
     "text": [
      "<class 'pandas.core.frame.DataFrame'>\n",
      "Int64Index: 590540 entries, 0 to 590539\n",
      "Data columns (total 18 columns):\n",
      " #   Column  Non-Null Count   Dtype  \n",
      "---  ------  --------------   -----  \n",
      " 0   card1   590540 non-null  int64  \n",
      " 1   card2   581607 non-null  float64\n",
      " 2   card3   588975 non-null  float64\n",
      " 3   card5   586281 non-null  float64\n",
      " 4   addr1   524834 non-null  float64\n",
      " 5   addr2   524834 non-null  float64\n",
      " 6   id_13   127320 non-null  float64\n",
      " 7   id_14   80044 non-null   float64\n",
      " 8   id_17   139369 non-null  float64\n",
      " 9   id_18   45113 non-null   float64\n",
      " 10  id_19   139318 non-null  float64\n",
      " 11  id_20   139261 non-null  float64\n",
      " 12  id_21   5159 non-null    float64\n",
      " 13  id_22   5169 non-null    float64\n",
      " 14  id_24   4747 non-null    float64\n",
      " 15  id_25   5132 non-null    float64\n",
      " 16  id_26   5163 non-null    float64\n",
      " 17  id_32   77586 non-null   float64\n",
      "dtypes: float64(17), int64(1)\n",
      "memory usage: 85.6 MB\n"
     ]
    }
   ],
   "source": [
    "# checking the datatype of features that\n",
    "# are documented as categorical\n",
    "dataset[[\"card1\", \"card2\", \"card3\", \"card5\", \n",
    "         \"addr1\", \"addr2\", \"id_13\", \"id_14\", \n",
    "         \"id_17\", \"id_18\", \"id_19\", \"id_20\", \n",
    "         \"id_21\", \"id_22\", \"id_24\", \"id_25\",\n",
    "         \"id_26\", \"id_32\"]].info()"
   ]
  },
  {
   "cell_type": "markdown",
   "id": "66f63376",
   "metadata": {},
   "source": [
    "All are `float64` apart from `card1` which is `int64`. Let's convert them all so that they are of type `object`. "
   ]
  },
  {
   "cell_type": "code",
   "execution_count": 78,
   "id": "81af5bbf-876e-4985-908e-ec41db4f8dbf",
   "metadata": {},
   "outputs": [
    {
     "name": "stdout",
     "output_type": "stream",
     "text": [
      "49\n"
     ]
    }
   ],
   "source": [
    "# adding these features to the catergorical columns\n",
    "cat_cols += [\"card1\", \"card2\", \"card3\", \"card5\", \n",
    "             \"addr1\", \"addr2\", \"id_13\", \"id_14\", \n",
    "             \"id_17\", \"id_18\", \"id_19\", \"id_20\", \n",
    "             \"id_21\", \"id_22\", \"id_24\", \"id_25\",\n",
    "             \"id_26\", \"id_32\"]\n",
    "\n",
    "# be careful, multiple runs will corrupt the list\n",
    "print(len(cat_cols))\n",
    "\n",
    "# casting all of these features to categorical\n",
    "dataset[cat_cols] = dataset[cat_cols].astype(\"O\")"
   ]
  },
  {
   "cell_type": "markdown",
   "id": "5f9ce38f-0c4c-4628-888f-717839035a45",
   "metadata": {},
   "source": [
    "There are 434 columns and we know that 49 of them are categorical and 1 is our target variable which means there are 384 features left that we don't know the datatype for...\n",
    "$$434 - 50 = 384$$\n",
    "\n",
    "The documentation states that the `TransactionDT` feature is a timedelta from a given reference datetime (not an actual timestamp). First, we will check it's current datatype..."
   ]
  },
  {
   "cell_type": "code",
   "execution_count": 79,
   "id": "d33f16dd-dcab-48b7-a382-ec8727036c8a",
   "metadata": {},
   "outputs": [
    {
     "name": "stdout",
     "output_type": "stream",
     "text": [
      "<class 'pandas.core.frame.DataFrame'>\n",
      "Int64Index: 590540 entries, 0 to 590539\n",
      "Data columns (total 1 columns):\n",
      " #   Column         Non-Null Count   Dtype\n",
      "---  ------         --------------   -----\n",
      " 0   TransactionDT  590540 non-null  int64\n",
      "dtypes: int64(1)\n",
      "memory usage: 9.0 MB\n"
     ]
    }
   ],
   "source": [
    "# checking datatype\n",
    "dataset[[\"TransactionDT\"]].info()"
   ]
  },
  {
   "cell_type": "markdown",
   "id": "a22f1178-c2d0-4ca7-a89c-12364aa8d7a3",
   "metadata": {},
   "source": [
    "It's currently of `int64` datatype so we will leave it for now.\n",
    "\n",
    "\n",
    "Next, we will gather all the numeric features that arent in the categorical variables or is not the target variable to see how many of the 384 features left are numeric."
   ]
  },
  {
   "cell_type": "code",
   "execution_count": 80,
   "id": "ac9bd4c1-6c69-4f13-a4aa-c12fd9850939",
   "metadata": {},
   "outputs": [
    {
     "name": "stdout",
     "output_type": "stream",
     "text": [
      "384\n"
     ]
    }
   ],
   "source": [
    "# colelcting all numerical features\n",
    "# that aren't the target label or in the cat_cols\n",
    "num_cols = [x for x in dataset.select_dtypes(include=['number']).columns\n",
    "            if x not in cat_cols\n",
    "            if x not in \"isFraud\"]\n",
    "print(len(num_cols))"
   ]
  },
  {
   "cell_type": "markdown",
   "id": "7df8942d-0500-4c2e-8a0e-a3bd36af693b",
   "metadata": {},
   "source": [
    "We can confirm that the remaining 384 features are numerical. "
   ]
  },
  {
   "cell_type": "markdown",
   "id": "fb8e1ae9-a074-4482-98f9-f5a6590c6882",
   "metadata": {},
   "source": [
    "### 3. Missing Values\n",
    "Many machine learning models require us to deal with missing values before passing the\n",
    "training data to it. Understanding the features with missing values could provide us some\n",
    "insight into how to deal with that particular feature (i.e. imputation or deletion). "
   ]
  },
  {
   "cell_type": "code",
   "execution_count": 81,
   "id": "34758599-4cba-4589-96a0-72c36670ca08",
   "metadata": {},
   "outputs": [
    {
     "data": {
      "text/html": [
       "<div>\n",
       "<style scoped>\n",
       "    .dataframe tbody tr th:only-of-type {\n",
       "        vertical-align: middle;\n",
       "    }\n",
       "\n",
       "    .dataframe tbody tr th {\n",
       "        vertical-align: top;\n",
       "    }\n",
       "\n",
       "    .dataframe thead th {\n",
       "        text-align: right;\n",
       "    }\n",
       "</style>\n",
       "<table border=\"1\" class=\"dataframe\">\n",
       "  <thead>\n",
       "    <tr style=\"text-align: right;\">\n",
       "      <th></th>\n",
       "      <th>percentage</th>\n",
       "    </tr>\n",
       "  </thead>\n",
       "  <tbody>\n",
       "    <tr>\n",
       "      <th>id_24</th>\n",
       "      <td>0.991962</td>\n",
       "    </tr>\n",
       "    <tr>\n",
       "      <th>id_25</th>\n",
       "      <td>0.991310</td>\n",
       "    </tr>\n",
       "    <tr>\n",
       "      <th>id_07</th>\n",
       "      <td>0.991271</td>\n",
       "    </tr>\n",
       "    <tr>\n",
       "      <th>id_08</th>\n",
       "      <td>0.991271</td>\n",
       "    </tr>\n",
       "    <tr>\n",
       "      <th>id_21</th>\n",
       "      <td>0.991264</td>\n",
       "    </tr>\n",
       "    <tr>\n",
       "      <th>id_26</th>\n",
       "      <td>0.991257</td>\n",
       "    </tr>\n",
       "    <tr>\n",
       "      <th>id_27</th>\n",
       "      <td>0.991247</td>\n",
       "    </tr>\n",
       "    <tr>\n",
       "      <th>id_23</th>\n",
       "      <td>0.991247</td>\n",
       "    </tr>\n",
       "    <tr>\n",
       "      <th>id_22</th>\n",
       "      <td>0.991247</td>\n",
       "    </tr>\n",
       "    <tr>\n",
       "      <th>dist2</th>\n",
       "      <td>0.936284</td>\n",
       "    </tr>\n",
       "  </tbody>\n",
       "</table>\n",
       "</div>"
      ],
      "text/plain": [
       "       percentage\n",
       "id_24    0.991962\n",
       "id_25    0.991310\n",
       "id_07    0.991271\n",
       "id_08    0.991271\n",
       "id_21    0.991264\n",
       "id_26    0.991257\n",
       "id_27    0.991247\n",
       "id_23    0.991247\n",
       "id_22    0.991247\n",
       "dist2    0.936284"
      ]
     },
     "execution_count": 81,
     "metadata": {},
     "output_type": "execute_result"
    }
   ],
   "source": [
    "#  a list of the variables that contain missing values\n",
    "features_with_na = [var for var in dataset.columns if dataset[var].isnull().sum() > 0]\n",
    "\n",
    "# determine percentage of missing values (expressed as decimals)\n",
    "# and display the result ordered by % of missin data\n",
    "missing_values_df = pd.DataFrame(dataset[features_with_na].isnull().mean().sort_values(ascending=False), columns=[\"percentage\"])\n",
    "missing_values_df.head(10)"
   ]
  },
  {
   "cell_type": "markdown",
   "id": "26666c06-aecb-48d7-912e-f707f0d4a6b0",
   "metadata": {},
   "source": [
    "Our dataset contains many features with large portion of missing values. For example, the first 10 features in our list are missing 93%+ of values.\n",
    "\n",
    "To train a Machine Learning model on this dataset, we would have to impute those missing values. The ones with a large portion of values may not be worth dealing with, since they've lost so much information, so we can consider removing them from the model. \n",
    "\n",
    "Let's see how many of missing features are above some random thresholds. "
   ]
  },
  {
   "cell_type": "code",
   "execution_count": 82,
   "id": "10a2d192-a58b-4047-aa53-36db7bf56d0d",
   "metadata": {},
   "outputs": [
    {
     "name": "stdout",
     "output_type": "stream",
     "text": [
      "25%: 252\n",
      "50%: 214\n",
      "75%: 208\n",
      "80%: 74\n",
      "90%: 12\n"
     ]
    }
   ],
   "source": [
    "# how many features are missing more than some random threshold? \n",
    "print(\n",
    "    f\"25%: {len(missing_values_df[missing_values_df['percentage'] > 0.25])}\\n\\\n",
    "50%: {len(missing_values_df[missing_values_df['percentage'] > 0.5])}\\n\\\n",
    "75%: {len(missing_values_df[missing_values_df['percentage'] > 0.75])}\\n\\\n",
    "80%: {len(missing_values_df[missing_values_df['percentage'] > 0.80])}\\n\\\n",
    "90%: {len(missing_values_df[missing_values_df['percentage'] > 0.90])}\"\n",
    ")   "
   ]
  },
  {
   "cell_type": "code",
   "execution_count": 83,
   "id": "5d854506-c07e-400b-876e-5a3544a8b5fc",
   "metadata": {},
   "outputs": [
    {
     "data": {
      "image/png": "[encoded data removed]",
      "text/plain": [
       "<Figure size 864x360 with 1 Axes>"
      ]
     },
     "metadata": {
      "needs_background": "light"
     },
     "output_type": "display_data"
    }
   ],
   "source": [
    "# plot\n",
    "missing_values_df[:100].plot.bar(figsize=(12, 5), legend=None)\n",
    "plt.ylabel('Percentage of missing data')\n",
    "plt.axhline(y=0.80, color='r', linestyle='-')\n",
    "plt.axhline(y=0.50, color='g', linestyle='-')\n",
    "plt.xticks(rotation=90)\n",
    "plt.show()"
   ]
  },
  {
   "cell_type": "markdown",
   "id": "3fe0dfc6-d40c-4489-b326-975ebde31177",
   "metadata": {},
   "source": [
    "A large portion of features (74) are missing more than 80% of values. Since the instances are annonymized for the protection of the customers, we can **consider** dropping features with high number of missing values as **there may be no clear way to identify how to engineer these features.** To begin with, I will start by separating the features into categorical and numerical. "
   ]
  },
  {
   "cell_type": "code",
   "execution_count": 84,
   "id": "d0c34b7b-0b59-4631-b7db-a6c362212b95",
   "metadata": {},
   "outputs": [
    {
     "name": "stdout",
     "output_type": "stream",
     "text": [
      "Number of categorical variables with na:  47\n",
      "Number of numerical variables with na:  367\n"
     ]
    }
   ],
   "source": [
    "# determine which features, from those with missing data,\n",
    "# are numerical and which are categorical\n",
    "\n",
    "cat_na = [feat for feat in cat_cols if feat in features_with_na]\n",
    "num_na = [feat for feat in num_cols if feat in features_with_na]\n",
    "\n",
    "print('Number of categorical variables with na: ', len(cat_na))\n",
    "print('Number of numerical variables with na: ', len(num_na))"
   ]
  },
  {
   "cell_type": "markdown",
   "id": "2f846174",
   "metadata": {},
   "source": [
    "The categorical features have 47/49 of missing values, and the numerical features have 367 of 384.  \n",
    "\n",
    "It would be good to know what percentage of missing values each one contains. "
   ]
  },
  {
   "cell_type": "code",
   "execution_count": 85,
   "id": "1627729f-659d-4099-bebe-00355f9b45d3",
   "metadata": {},
   "outputs": [
    {
     "name": "stdout",
     "output_type": "stream",
     "text": [
      "25%: 39\n",
      "50%: 34\n",
      "75%: 30\n",
      "80%: 13\n",
      "90%: 8\n"
     ]
    }
   ],
   "source": [
    "# missing value percentages of categorical features at random thresholds\n",
    "print(\n",
    "    f\"25%: {sum(missing_values_df.loc[cat_na, 'percentage'] > 0.25)}\\n\\\n",
    "50%: {sum(missing_values_df.loc[cat_na, 'percentage'] > 0.5)}\\n\\\n",
    "75%: {sum(missing_values_df.loc[cat_na, 'percentage'] > 0.75)}\\n\\\n",
    "80%: {sum(missing_values_df.loc[cat_na, 'percentage'] > 0.8)}\\n\\\n",
    "90%: {sum(missing_values_df.loc[cat_na, 'percentage'] > 0.9)}\"\n",
    ")  "
   ]
  },
  {
   "cell_type": "code",
   "execution_count": 86,
   "id": "99b5a499-63f3-471b-9f2d-7ea07de0f53a",
   "metadata": {},
   "outputs": [
    {
     "name": "stdout",
     "output_type": "stream",
     "text": [
      "25%: 213\n",
      "50%: 180\n",
      "75%: 178\n",
      "80%: 61\n",
      "90%: 4\n"
     ]
    }
   ],
   "source": [
    "# missing value percentages of categorical features at random thresholds\n",
    "print(\n",
    "    f\"25%: {sum(missing_values_df.loc[num_na, 'percentage'] > 0.25)}\\n\\\n",
    "50%: {sum(missing_values_df.loc[num_na, 'percentage'] > 0.5)}\\n\\\n",
    "75%: {sum(missing_values_df.loc[num_na, 'percentage'] > 0.75)}\\n\\\n",
    "80%: {sum(missing_values_df.loc[num_na, 'percentage'] > 0.8)}\\n\\\n",
    "90%: {sum(missing_values_df.loc[num_na, 'percentage'] > 0.9)}\"\n",
    ")"
   ]
  },
  {
   "cell_type": "markdown",
   "id": "b1ac423f",
   "metadata": {},
   "source": [
    "There is definitely more analysis that can be performed to better grasp the nature of this data. For instance, we could perform more anaysis to understand the relationship of the features with the target, and we can look at the distributions of the features itself. \n",
    "\n",
    "However, I personally prefer to carry out that step after fitting some models to the data and understanding why certain features are more important than others. "
   ]
  }
 ],
 "metadata": {
  "kernelspec": {
   "display_name": "Python 3 (ipykernel)",
   "language": "python",
   "name": "python3"
  },
  "language_info": {
   "codemirror_mode": {
    "name": "ipython",
    "version": 3
   },
   "file_extension": ".py",
   "mimetype": "text/x-python",
   "name": "python",
   "nbconvert_exporter": "python",
   "pygments_lexer": "ipython3",
   "version": "3.8.12"
  }
 },
 "nbformat": 4,
 "nbformat_minor": 5
}
